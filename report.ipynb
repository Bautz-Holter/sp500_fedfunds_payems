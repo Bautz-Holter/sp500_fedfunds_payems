{
 "cells": [
  {
   "cell_type": "code",
   "execution_count": null,
   "id": "c86a4b76",
   "metadata": {},
   "outputs": [],
   "source": [
    "import pandas as pd\n",
    "import numpy as np\n",
    "from statsmodels.tsa.statespace.sarimax import SARIMAX\n",
    "\n",
    "# Example data\n",
    "np.random.seed(42)\n",
    "y = np.random.randn(100)              # target time series\n",
    "exog = np.random.randn(100, 2)        # two exogenous variables\n",
    "\n",
    "# Fit ARIMAX model (order = (AR, I, MA))\n",
    "model = SARIMAX(y, exog=exog, order=(1, 1, 1))  # ARIMA(1,1,1) with exogenous vars\n",
    "results = model.fit()\n",
    "\n",
    "# Summary of the model\n",
    "print(results.summary())\n",
    "\n",
    "# Forecasting\n",
    "future_exog = np.random.randn(10, 2)  # future values of exog\n",
    "forecast = results.forecast(steps=10, exog=future_exog)\n",
    "print(forecast)\n"
   ]
  },
  {
   "cell_type": "code",
   "execution_count": null,
   "id": "fcad7408",
   "metadata": {},
   "outputs": [],
   "source": [
    "import numpy as np\n",
    "import pandas as pd\n",
    "from arch import arch_model\n",
    "\n",
    "# Simulated returns (or use real data like stock returns)\n",
    "np.random.seed(42)\n",
    "returns = np.random.normal(0, 1, 1000)\n",
    "\n",
    "# Fit GARCH(1,1) model to returns\n",
    "model = arch_model(returns, vol='GARCH', p=1, q=1, mean='Zero')\n",
    "results = model.fit(disp='off')\n",
    "\n",
    "# Summary of the fitted model\n",
    "print(results.summary())\n",
    "\n",
    "# Forecast future volatility (e.g. 5 steps ahead)\n",
    "forecast = results.forecast(horizon=5)\n",
    "print(forecast.variance[-1:])\n"
   ]
  },
  {
   "cell_type": "markdown",
   "id": "f60c5a21",
   "metadata": {},
   "source": [
    "**AIC/BIC**"
   ]
  },
  {
   "cell_type": "code",
   "execution_count": null,
   "id": "924bd6c2",
   "metadata": {},
   "outputs": [],
   "source": [
    "from arch import arch_model\n",
    "import numpy as np\n",
    "\n",
    "# Simulated returns\n",
    "np.random.seed(42)\n",
    "returns = np.random.normal(0, 1, 1000)\n",
    "\n",
    "# Fit GARCH(1,1)\n",
    "model = arch_model(returns, vol='GARCH', p=1, q=1)\n",
    "results = model.fit(disp=\"off\")\n",
    "\n",
    "# Access AIC and BIC\n",
    "print(\"AIC:\", results.aic)\n",
    "print(\"BIC:\", results.bic)\n"
   ]
  },
  {
   "cell_type": "code",
   "execution_count": null,
   "id": "d8276453",
   "metadata": {},
   "outputs": [],
   "source": [
    "from statsmodels.tsa.statespace.sarimax import SARIMAX\n",
    "\n",
    "model = SARIMAX(data['sp500_returns'], exog=data[['nfp_change', 'ffr']], order=(1,0,1))\n",
    "results = model.fit()\n",
    "print(results.summary())\n"
   ]
  },
  {
   "cell_type": "code",
   "execution_count": null,
   "id": "f126dc1a",
   "metadata": {},
   "outputs": [],
   "source": [
    "from arch import arch_model\n",
    "\n",
    "# Use ARIMAX residuals if you want to separate mean and volatility effects\n",
    "resid = results.resid\n",
    "\n",
    "# GARCH(1,1) with exogenous variables\n",
    "garch_model = arch_model(resid, vol='GARCH', p=1, q=1, mean='Zero', x=data[['nfp_change', 'ffr']])\n",
    "garch_res = garch_model.fit()\n",
    "print(garch_res.summary())\n"
   ]
  },
  {
   "cell_type": "markdown",
   "id": "fdb9a4bd",
   "metadata": {},
   "source": [
    "**Table of Contents**<br>\n",
    "Necessary imports<br>\n",
    "Problem statement<br>\n",
    "Data<br>\n",
    "Empirical analysis<br>\n",
    "Conclusion<br>\n",
    "Use of LLMs<br>"
   ]
  },
  {
   "cell_type": "markdown",
   "id": "39c15d4e",
   "metadata": {},
   "source": [
    "**Necessary imports**"
   ]
  },
  {
   "cell_type": "code",
   "execution_count": 14,
   "id": "c0e1ba24",
   "metadata": {},
   "outputs": [],
   "source": [
    "import pandas as pd\n",
    "import numpy as np\n",
    "import statsmodels as sm\n",
    "import matplotlib.pyplot as plt"
   ]
  },
  {
   "cell_type": "markdown",
   "id": "51f477ab",
   "metadata": {},
   "source": [
    "**Problem statement**"
   ]
  },
  {
   "cell_type": "markdown",
   "id": "5a483aab",
   "metadata": {},
   "source": [
    "Is it possible to predict stock market returns and volatility, as defined by the American S&P 500 index, by utilizing time series data of nonfarm employment statistics and the federal funds rate, thus capturing the markets' expectations of future rate cuts given the current labor market conditions."
   ]
  },
  {
   "cell_type": "markdown",
   "id": "91da2aa6",
   "metadata": {},
   "source": [
    "This problem delves into the world of statistical models for time series explanation and forecasting, and tackles both returns and volatility."
   ]
  },
  {
   "cell_type": "markdown",
   "id": "08b2b6d2",
   "metadata": {},
   "source": [
    "**Data**"
   ]
  },
  {
   "cell_type": "markdown",
   "id": "baaf46a9",
   "metadata": {},
   "source": [
    "I have used three datasets for this report:\n",
    "* S&P 500 daily returns (SP500)\n",
    "* US daily Federal Funds rate (FEDFUNDS)\n",
    "* US nonfarm payrolls (PAYEMS)\n",
    "\n",
    "All datasets are retrieved from the US Federal Reserve Economic Data (FRED)"
   ]
  },
  {
   "cell_type": "markdown",
   "id": "0c107c36",
   "metadata": {},
   "source": [
    "*SP500*"
   ]
  },
  {
   "cell_type": "code",
   "execution_count": 15,
   "id": "f4b216f7",
   "metadata": {},
   "outputs": [],
   "source": [
    "sp_500 = pd.read_csv('SP500.csv', sep=',')\n",
    "sp_500['observation_date'] = pd.to_datetime(sp_500['observation_date'])\n",
    "sp_500.set_index('observation_date', inplace=True)\n"
   ]
  },
  {
   "cell_type": "code",
   "execution_count": 16,
   "id": "33061714",
   "metadata": {},
   "outputs": [
    {
     "data": {
      "text/html": [
       "<div>\n",
       "<style scoped>\n",
       "    .dataframe tbody tr th:only-of-type {\n",
       "        vertical-align: middle;\n",
       "    }\n",
       "\n",
       "    .dataframe tbody tr th {\n",
       "        vertical-align: top;\n",
       "    }\n",
       "\n",
       "    .dataframe thead th {\n",
       "        text-align: right;\n",
       "    }\n",
       "</style>\n",
       "<table border=\"1\" class=\"dataframe\">\n",
       "  <thead>\n",
       "    <tr style=\"text-align: right;\">\n",
       "      <th></th>\n",
       "      <th>SP500</th>\n",
       "    </tr>\n",
       "    <tr>\n",
       "      <th>observation_date</th>\n",
       "      <th></th>\n",
       "    </tr>\n",
       "  </thead>\n",
       "  <tbody>\n",
       "    <tr>\n",
       "      <th>2015-04-13</th>\n",
       "      <td>2092.43</td>\n",
       "    </tr>\n",
       "    <tr>\n",
       "      <th>2015-04-14</th>\n",
       "      <td>2095.84</td>\n",
       "    </tr>\n",
       "    <tr>\n",
       "      <th>2015-04-15</th>\n",
       "      <td>2106.63</td>\n",
       "    </tr>\n",
       "    <tr>\n",
       "      <th>2015-04-16</th>\n",
       "      <td>2104.99</td>\n",
       "    </tr>\n",
       "    <tr>\n",
       "      <th>2015-04-17</th>\n",
       "      <td>2081.18</td>\n",
       "    </tr>\n",
       "    <tr>\n",
       "      <th>...</th>\n",
       "      <td>...</td>\n",
       "    </tr>\n",
       "    <tr>\n",
       "      <th>2025-04-04</th>\n",
       "      <td>5074.08</td>\n",
       "    </tr>\n",
       "    <tr>\n",
       "      <th>2025-04-07</th>\n",
       "      <td>5062.25</td>\n",
       "    </tr>\n",
       "    <tr>\n",
       "      <th>2025-04-08</th>\n",
       "      <td>4982.77</td>\n",
       "    </tr>\n",
       "    <tr>\n",
       "      <th>2025-04-09</th>\n",
       "      <td>5456.90</td>\n",
       "    </tr>\n",
       "    <tr>\n",
       "      <th>2025-04-10</th>\n",
       "      <td>5268.05</td>\n",
       "    </tr>\n",
       "  </tbody>\n",
       "</table>\n",
       "<p>2609 rows × 1 columns</p>\n",
       "</div>"
      ],
      "text/plain": [
       "                    SP500\n",
       "observation_date         \n",
       "2015-04-13        2092.43\n",
       "2015-04-14        2095.84\n",
       "2015-04-15        2106.63\n",
       "2015-04-16        2104.99\n",
       "2015-04-17        2081.18\n",
       "...                   ...\n",
       "2025-04-04        5074.08\n",
       "2025-04-07        5062.25\n",
       "2025-04-08        4982.77\n",
       "2025-04-09        5456.90\n",
       "2025-04-10        5268.05\n",
       "\n",
       "[2609 rows x 1 columns]"
      ]
     },
     "execution_count": 16,
     "metadata": {},
     "output_type": "execute_result"
    }
   ],
   "source": [
    "sp_500"
   ]
  },
  {
   "cell_type": "code",
   "execution_count": 19,
   "id": "2cbf5b7e",
   "metadata": {},
   "outputs": [
    {
     "data": {
      "image/png": "[encoded data removed]",
      "text/plain": [
       "<Figure size 1000x400 with 1 Axes>"
      ]
     },
     "metadata": {},
     "output_type": "display_data"
    }
   ],
   "source": [
    "# Plot\n",
    "plt.figure(figsize=(10, 4))\n",
    "plt.plot(sp_500.index, sp_500['SP500'])\n",
    "plt.title('S&P 500 Time Series')\n",
    "plt.xlabel('Date')\n",
    "plt.ylabel('S&P 500')\n",
    "plt.grid(True)\n",
    "plt.tight_layout()\n",
    "plt.show()"
   ]
  },
  {
   "cell_type": "markdown",
   "id": "0678bbcb",
   "metadata": {},
   "source": [
    "**Empirical analysis**"
   ]
  },
  {
   "cell_type": "markdown",
   "id": "7088c9d9",
   "metadata": {},
   "source": [
    "XX"
   ]
  },
  {
   "cell_type": "markdown",
   "id": "d61df6c0",
   "metadata": {},
   "source": [
    "**Conclusion**"
   ]
  },
  {
   "cell_type": "markdown",
   "id": "4005cd85",
   "metadata": {},
   "source": [
    "XX"
   ]
  },
  {
   "cell_type": "markdown",
   "id": "eb47d70e",
   "metadata": {},
   "source": [
    "**Use of LLMs**"
   ]
  }
 ],
 "metadata": {
  "kernelspec": {
   "display_name": "Project",
   "language": "python",
   "name": "python3"
  },
  "language_info": {
   "codemirror_mode": {
    "name": "ipython",
    "version": 3
   },
   "file_extension": ".py",
   "mimetype": "text/x-python",
   "name": "python",
   "nbconvert_exporter": "python",
   "pygments_lexer": "ipython3",
   "version": "3.12.10"
  }
 },
 "nbformat": 4,
 "nbformat_minor": 5
}
